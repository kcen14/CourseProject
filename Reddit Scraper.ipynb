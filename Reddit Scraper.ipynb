{
 "cells": [
  {
   "cell_type": "code",
   "execution_count": 1,
   "id": "c44b0516",
   "metadata": {},
   "outputs": [
    {
     "name": "stdout",
     "output_type": "stream",
     "text": [
      "Requirement already satisfied: praw in c:\\users\\kcen4\\anaconda3\\lib\\site-packages (7.5.0)\n",
      "Requirement already satisfied: update-checker>=0.18 in c:\\users\\kcen4\\anaconda3\\lib\\site-packages (from praw) (0.18.0)\n",
      "Requirement already satisfied: prawcore<3,>=2.1 in c:\\users\\kcen4\\anaconda3\\lib\\site-packages (from praw) (2.3.0)\n",
      "Requirement already satisfied: websocket-client>=0.54.0 in c:\\users\\kcen4\\anaconda3\\lib\\site-packages (from praw) (1.2.3)\n",
      "Requirement already satisfied: requests<3.0,>=2.6.0 in c:\\users\\kcen4\\anaconda3\\lib\\site-packages (from prawcore<3,>=2.1->praw) (2.25.1)\n",
      "Requirement already satisfied: chardet<5,>=3.0.2 in c:\\users\\kcen4\\anaconda3\\lib\\site-packages (from requests<3.0,>=2.6.0->prawcore<3,>=2.1->praw) (4.0.0)\n",
      "Requirement already satisfied: idna<3,>=2.5 in c:\\users\\kcen4\\anaconda3\\lib\\site-packages (from requests<3.0,>=2.6.0->prawcore<3,>=2.1->praw) (2.10)\n",
      "Requirement already satisfied: urllib3<1.27,>=1.21.1 in c:\\users\\kcen4\\anaconda3\\lib\\site-packages (from requests<3.0,>=2.6.0->prawcore<3,>=2.1->praw) (1.26.4)\n",
      "Requirement already satisfied: certifi>=2017.4.17 in c:\\users\\kcen4\\anaconda3\\lib\\site-packages (from requests<3.0,>=2.6.0->prawcore<3,>=2.1->praw) (2020.12.5)\n"
     ]
    }
   ],
   "source": [
    "!pip install praw\n",
    "import praw"
   ]
  },
  {
   "cell_type": "code",
   "execution_count": 2,
   "id": "a5447348",
   "metadata": {},
   "outputs": [],
   "source": [
    "import nltk\n",
    "from nltk.sentiment.vader import SentimentIntensityAnalyzer as SIA\n",
    "import math\n",
    "import pandas as pd\n",
    "import numpy as np"
   ]
  },
  {
   "cell_type": "code",
   "execution_count": 3,
   "id": "3be7af88",
   "metadata": {},
   "outputs": [],
   "source": [
    "reddit = praw.Reddit(client_id=\"K3j6wiPOwUPduCsX3TuV7g\",\n",
    "                                client_secret=\"Gufs3iuqAhlJpZ9rOJfV-SEGruhpdQ\",  \n",
    "                                user_agent=\"WSB Scrapper CS410\",\n",
    "                                username=\"Academic_Jellyfish34\",\n",
    "                                password=\"123123AAA!\")"
   ]
  },
  {
   "cell_type": "code",
   "execution_count": 4,
   "id": "e820e65e",
   "metadata": {},
   "outputs": [
    {
     "name": "stderr",
     "output_type": "stream",
     "text": [
      "[nltk_data] Downloading package vader_lexicon to\n",
      "[nltk_data]     C:\\Users\\kcen4\\AppData\\Roaming\\nltk_data...\n",
      "[nltk_data]   Package vader_lexicon is already up-to-date!\n",
      "[nltk_data] Downloading package stopwords to\n",
      "[nltk_data]     C:\\Users\\kcen4\\AppData\\Roaming\\nltk_data...\n",
      "[nltk_data]   Package stopwords is already up-to-date!\n"
     ]
    },
    {
     "data": {
      "text/plain": [
       "True"
      ]
     },
     "execution_count": 4,
     "metadata": {},
     "output_type": "execute_result"
    }
   ],
   "source": [
    "nltk.download('vader_lexicon')\n",
    "nltk.download('stopwords')"
   ]
  },
  {
   "cell_type": "code",
   "execution_count": 6,
   "id": "5122196c",
   "metadata": {},
   "outputs": [],
   "source": [
    "list = [\"AMD\", \"LCID\", \"PLTR\", \"RIVN\"] \n",
    "\n",
    "def computeSentiment(ticker, subURL):\n",
    "    \n",
    "    sia = SIA()\n",
    "    results = []\n",
    "    comments = []\n",
    "    aggComments = []\n",
    "    \n",
    "    try:\n",
    "        page = reddit.submission(url=subURL)\n",
    "        comments = page.comments\n",
    "    except:\n",
    "        return 0\n",
    "    \n",
    "    for comment in comments:\n",
    "        try: \n",
    "            aggComments.append(comment.body)\n",
    "        except:\n",
    "            return 0\n",
    "    \n",
    "    for line in aggComments:\n",
    "        scores = sia.polarity_scores(line)\n",
    "        scores['line'] = line\n",
    "\n",
    "        results.append(scores)\n",
    "    \n",
    "    df =pd.DataFrame.from_records(results)\n",
    "    df['label'] = 0\n",
    "    \n",
    "    try:\n",
    "        df.loc[df['compound'] > 0.1, 'label'] = 1\n",
    "        df.loc[df['compound'] < -0.1, 'label'] = -1\n",
    "    except:\n",
    "        return 0\n",
    "    \n",
    "    averageScore = 0\n",
    "    index = 0\n",
    "    \n",
    "    while index < len(df.label)-1:\n",
    "        averageScore = averageScore + df.label[index]\n",
    "        index += 1\n",
    "    averageScore = averageScore/len(df.label) \n",
    "    \n",
    "    return(averageScore)\n",
    "\n",
    "output = []\n",
    "data = {}\n",
    "\n",
    "for stock in list:\n",
    "    for submission in reddit.subreddit('wallstreetbets').search(stock, limit=10):\n",
    "        data = {}\n",
    "        data['Ticker'] = stock\n",
    "        data['Avg Sentiment'] = computeSentiment(stock, submission.url)\n",
    "        if data['Avg Sentiment'] == 0:\n",
    "            continue\n",
    "        output.append(data)\n",
    "    \n",
    "df = pd.DataFrame(output)\n",
    "\n",
    "df.to_csv('WSB_Sentiment.csv', index=False) "
   ]
  },
  {
   "cell_type": "code",
   "execution_count": null,
   "id": "185e9579",
   "metadata": {},
   "outputs": [],
   "source": []
  }
 ],
 "metadata": {
  "kernelspec": {
   "display_name": "Python 3",
   "language": "python",
   "name": "python3"
  },
  "language_info": {
   "codemirror_mode": {
    "name": "ipython",
    "version": 3
   },
   "file_extension": ".py",
   "mimetype": "text/x-python",
   "name": "python",
   "nbconvert_exporter": "python",
   "pygments_lexer": "ipython3",
   "version": "3.8.8"
  }
 },
 "nbformat": 4,
 "nbformat_minor": 5
}
